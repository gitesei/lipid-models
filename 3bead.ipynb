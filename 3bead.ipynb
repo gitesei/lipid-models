{
 "cells": [
  {
   "cell_type": "markdown",
   "metadata": {},
   "source": [
    "# Thermal Expansivity and Heat Capacity of Neutral Planar Lipid Bilayers\n",
    "This notebook guides you through a protocol to simulate and analyze planar lipid bilayers of a highly coarse-grained lipid model.<br> \n",
    "Simulations are performed using the Monte Carlo code [Faunus](http://mlund.github.io/faunus/).<br>\n",
    "The focus of the first section is to calculate the thermal expansivity and the heat capacity at various temperatures.<br>\n",
    "To begin with, we reproduce some results published by [Cooke and Deserno](https://aip.scitation.org/doi/10.1063/1.2135785) for the Cooke 3-bead lipid model.<br> \n",
    "Then, we increase the range of the attraction between the tail beads. Will the gel-fluid phase transition occur at a different temperature? Will the thermal expansivity of the fluid phase increase or decrease?<br>\n",
    "\n",
    "#### Table of contents\n",
    "1. [Running the Simulations](#1)\n",
    "2. [Pair Potentials](#2)\n",
    "3. [Density Profiles](#3)\n",
    "4. [Analysis of the System Energy](#4)\n",
    "5. [Analysis of the Area per Lipid](#5)\n",
    "6. [Analysis of Model with Larger $w_c$](#6)"
   ]
  },
  {
   "cell_type": "markdown",
   "metadata": {},
   "source": [
    "Let's import all the packages that you'll need to generate the input files and analyze the output. \n",
    "- [numpy](www.numpy.org) is a package to store and manipulate numerical arrays.\n",
    "- [matplotlib](http://matplotlib.org) is the plotting library.\n",
    "- [jinja2](http://jinja.pocoo.org/docs/2.10) is used here to fill out the template of the Faunus input."
   ]
  },
  {
   "cell_type": "code",
   "execution_count": null,
   "metadata": {},
   "outputs": [],
   "source": [
    "import numpy as np\n",
    "import matplotlib as mpl\n",
    "import matplotlib.pyplot as plt\n",
    "%matplotlib inline\n",
    "from jinja2 import Template\n",
    "try:\n",
    "    workdir\n",
    "except NameError:\n",
    "    workdir=%pwd\n",
    "else:\n",
    "    %cd $workdir"
   ]
  },
  {
   "cell_type": "markdown",
   "metadata": {},
   "source": [
    "Let's initialize some parameters."
   ]
  },
  {
   "cell_type": "code",
   "execution_count": null,
   "metadata": {},
   "outputs": [],
   "source": [
    "R = 8.3145 # gas constant in J/K/mol\n",
    "eps = R*298 / 1.1 / 1000 # energy parameter in kJ/mol\n",
    "sigma = 8 # length parameter in Å\n",
    "print(\"eps:\",eps,\"kJ/mol\")"
   ]
  },
  {
   "cell_type": "code",
   "execution_count": null,
   "metadata": {},
   "outputs": [],
   "source": [
    "Ts = np.arange(253,320,5) # range of temperatures to explore\n",
    "Ts = np.append(Ts,[275,276,277])\n",
    "Ts.sort()\n",
    "Ts"
   ]
  },
  {
   "cell_type": "markdown",
   "metadata": {},
   "source": [
    "Let's get to the folder of the 3-bead model with $w_c=1.6\\sigma$."
   ]
  },
  {
   "cell_type": "code",
   "execution_count": null,
   "metadata": {},
   "outputs": [],
   "source": [
    "%cd $workdir/3bead\n",
    "%mkdir 1.6\n",
    "%cd 1.6"
   ]
  },
  {
   "cell_type": "markdown",
   "metadata": {},
   "source": [
    "### Downloading and Compiling Faunus"
   ]
  },
  {
   "cell_type": "code",
   "execution_count": null,
   "metadata": {},
   "outputs": [],
   "source": [
    "%%bash -s \"$workdir\"\n",
    "source activate lipid-models\n",
    "cd $1\n",
    "git clone https://github.com/mlund/faunus.git\n",
    "cd faunus\n",
    "git checkout 9aaeff5289b7e7f6adfed775494977e48501d5b7\n",
    "cmake . -DENABLE_MPI=OFF -DCMAKE_BUILD_TYPE=Release \n",
    "make -j4 faunus"
   ]
  },
  {
   "cell_type": "markdown",
   "metadata": {},
   "source": [
    "<a id='1'></a>"
   ]
  },
  {
   "cell_type": "markdown",
   "metadata": {},
   "source": [
    "## Running the Simulations"
   ]
  },
  {
   "cell_type": "markdown",
   "metadata": {},
   "source": [
    "Our simulation protocol is divided into two steps:\n",
    "- a short simulation in a cuboid cell of constant dimensions to confine the lipids in the $xy$-plane;\n",
    "- a long simulation without confinement potential in a cuboid cell of varying aspect ratio, $L_z$/$L_x$=$L_z$/$L_y$, and constant volume, $V=L_x L_y L_z$.<br>\n",
    "In the long simulation, we monitor $L_x$, system energy, and density profiles along $z$.<br>"
   ]
  },
  {
   "cell_type": "code",
   "execution_count": null,
   "metadata": {},
   "outputs": [],
   "source": [
    "template = Template(\"\"\"comment: \"3-bead Cooke lipid model. More information: doi:10/chqzjk\"\n",
    "temperature: {{T}}\n",
    "random: {seed: hardware}\n",
    "geometry: {type: cuboid, length: [{{L}}, {{L}}, {{2.5*L}}]}\n",
    "mcloop: {macro: 10, micro: {{micro}}}\n",
    "\n",
    "atomlist:\n",
    "    - TL: {sigma: {{sigma}}, eps: {{eps}}, dp: 2}\n",
    "    - HD: {sigma: {{sigma*0.95}}, eps: {{eps}}, dp: 2}\n",
    "\n",
    "moleculelist:\n",
    "    - lipid:\n",
    "        structure:\n",
    "            - HD: [0,0,0]\n",
    "            - TL: [0,0,{{sigma}}]\n",
    "            - TL: [0,0,{{2*sigma}}]\n",
    "        bondlist:\n",
    "            - fene+wca: {index: [0,1], k: {{30*eps/sigma/sigma}}, rmax: {{1.5*sigma}}, \n",
    "                sigma: {{sigma}}, eps: {{eps}}}\n",
    "            - fene+wca: {index: [1,2], k: {{30*eps/sigma/sigma}}, rmax: {{1.5*sigma}}, \n",
    "                sigma: {{sigma}}, eps: {{eps}}}\n",
    "            - harmonic: {index: [0,2], k: {{10*eps/sigma/sigma}}, req: {{4*sigma}}}\n",
    "\n",
    "insertmolecules:\n",
    "    - lipid: {N: 150}\n",
    "\n",
    "energy:\n",
    "    - confine: {type: cuboid, low: [-1e5,-1e5,-30], \n",
    "                 high: [1e5,1e5,30], k: {{k}},\n",
    "                 molecules: [lipid], com: True}\n",
    "    - bonded: {}\n",
    "    - nonbonded_cached:\n",
    "        cutoff_g2g: 45\n",
    "        default:\n",
    "            - wca: {mixing: LB}\n",
    "        TL TL:\n",
    "            - wca:\n",
    "                mixing: LB\n",
    "                custom:\n",
    "                    TL TL: {sigma: {{sigma}}, eps: {{eps}}}\n",
    "            - cos2: {rc: {{1.122462*sigma}}, eps: {{eps}}, wc: {{wc*sigma}}}\n",
    "        HD TL:\n",
    "            - wca:\n",
    "                mixing: LB\n",
    "                custom:\n",
    "                    HD TL: {sigma: {{sigma}}, eps: {{eps}}}\n",
    "        HD HD:\n",
    "            - wca:\n",
    "                mixing: LB\n",
    "                custom:\n",
    "                    HD HD: {sigma: {{sigma*0.95}}, eps: {{eps}}}\n",
    "\n",
    "moves:\n",
    "    - moltransrot: {molecule: lipid, dp: 1.0, dprot: 0.5, repeat: 150}\n",
    "    - transrot: {molecule: lipid, repeat: 150}\n",
    "    - volume: {dV: 0.04, method: isochoric, repeat: {{repeat}}}\n",
    "        \n",
    "analysis:\n",
    "    - savestate: {file: state{{T}}.json}\n",
    "    - savestate: {file: confout{{T}}.pqr}\n",
    "    - savestate: {file: confout{{T}}.gro}\n",
    "    - systemenergy: {file: energy{{T}}.dat, nstep: 1e2}\n",
    "    - xtcfile: {file: traj{{T}}.xtc, nstep: 1e5}\n",
    "    - reactioncoordinate: {file: Lx{{T}}.dat, nstep: 1e2, type: system, property: Lx}\n",
    "    - sliceddensity: {file: HD{{T}}.dat, nstep: 1e2, atoms: [HD], dz: 0.5, nskip: 2e5, atomcom: TL}\n",
    "    - sliceddensity: {file: TL{{T}}.dat, nstep: 1e2, atoms: [TL], dz: 0.5, nskip: 2e5, atomcom: TL}\n",
    "    - sanity: {nstep: 1e4}\"\"\")"
   ]
  },
  {
   "cell_type": "code",
   "execution_count": null,
   "metadata": {},
   "outputs": [],
   "source": [
    "submit = Template(\"\"\"#!/bin/bash\n",
    "#requesting the number of cores needed on exclusive nodes\n",
    "#SBATCH -p snic\n",
    "#SBATCH -N 1\n",
    "#SBATCH --ntasks-per-node=1\n",
    "#SBATCH -A snic2019-3-188\n",
    "#\n",
    "# job time, change for what your job requires\n",
    "#SBATCH -t 10:0:0\n",
    "#\n",
    "# job name\n",
    "#SBATCH -J {{T}}\n",
    "#\n",
    "# filenames stdout and stderr\n",
    "#SBATCH -o out_{{T}}\n",
    "#SBATCH -e err_{{T}}\n",
    "\n",
    "module load GCC/8.2.0-2.31.1\n",
    "module load OpenMPI/3.1.3\n",
    "\n",
    "../../faunus/faunus --input ine{{T}}.json --output oute{{T}}.json --nobar\n",
    "../../faunus/faunus --input inp{{T}}.json --state state{{T}}.json --output outp{{T}}.json\n",
    "\"\"\")"
   ]
  },
  {
   "cell_type": "code",
   "execution_count": null,
   "metadata": {},
   "outputs": [],
   "source": [
    "for T in Ts:\n",
    "    with open('ine{:d}.yml'.format(T), 'w') as input_file:\n",
    "        # use jinja2 to specify the variable in the template (confine on, volume moves off, short simulation)\n",
    "        input_file.write(template.render(T=T, wc=1.6, L=75, micro=2e3, sigma=sigma, eps=eps, k=80, repeat=0))\n",
    "    !../../faunus/scripts/yason.py ine{T}.yml > ine{T}.json\n",
    "    with open('inp{:d}.yml'.format(T), 'w') as input_file:\n",
    "        # use jinja2 to specify the variable in the template (confine off, volume moves on, long simulation)\n",
    "        input_file.write(template.render(T=T, wc=1.6, L=75, micro=1e5, sigma=sigma, eps=eps, k=0, repeat=1))\n",
    "    !../../faunus/scripts/yason.py inp{T}.yml > inp{T}.json\n",
    "    with open('submit{:d}.sh'.format(T), 'w') as submit_file:\n",
    "        temp = submit.render(T=T)\n",
    "        submit_file.write(temp)  \n",
    "    !sbatch submit{T}.sh"
   ]
  },
  {
   "cell_type": "markdown",
   "metadata": {},
   "source": [
    "<a id='2'></a>"
   ]
  },
  {
   "cell_type": "markdown",
   "metadata": {},
   "source": [
    "## Pair Potentials\n",
    "Plot the bonded and nonbonded pair potenitals described in [this article](https://aip.scitation.org/doi/10.1063/1.2135785).<br>\n",
    "In Python, functions can be defined as follows\n",
    "```python\n",
    "def cos2(x,eps,sigma,wc):\n",
    "    rc = 2**(1/6)*sigma\n",
    "    wc = wc*sigma\n",
    "    y = -eps*np.cos(np.pi*(x-rc)/2/wc)**2\n",
    "    y[x<rc] = -eps\n",
    "    y[x>rc+wc] = 0\n",
    "    return y\n",
    "```\n",
    "or in a single line using lambda expressions\n",
    "```python\n",
    "bend = lambda x,k,sigma : 0.5*k*(x-4*sigma)**2\n",
    "```\n",
    "- To what extent does increasing $w_c$ to 1.65$\\sigma$ affect the range of the TL–TL attraction?"
   ]
  },
  {
   "cell_type": "markdown",
   "metadata": {},
   "source": [
    "<a id='3'></a>"
   ]
  },
  {
   "cell_type": "markdown",
   "metadata": {},
   "source": [
    "## Density Profiles\n",
    "Plot the density profiles along the $z$-coordinate calculated at runtime in the simulations at various temperatures. \n",
    "- Are the density profiles consistent with bilayer structures? \n",
    "- How do they change with increasing temperature?"
   ]
  },
  {
   "cell_type": "code",
   "execution_count": null,
   "metadata": {},
   "outputs": [],
   "source": [
    "cm = plt.cm.coolwarm(np.linspace(0, 1, Ts[::2].size))\n",
    "for i,T in enumerate(Ts[::2]):\n",
    "    x,y = np.loadtxt('HD{:d}.dat'.format(T),unpack=True)\n",
    "    plt.plot(x,y*6.022/10,color=cm[i])\n",
    "    x,y = np.loadtxt('TL{:d}.dat'.format(T),unpack=True)\n",
    "    plt.plot(x,y*6.022/10,color=cm[i],label='{:d} K'.format(T))\n",
    "plt.xlim(-30,50)\n",
    "plt.legend(frameon=False)\n",
    "plt.xlabel('$z$  /  Å')\n",
    "plt.ylabel(r'$\\rho(z)$  /  nm$^{-3}$')"
   ]
  },
  {
   "cell_type": "markdown",
   "metadata": {},
   "source": [
    "<a id='4'></a>"
   ]
  },
  {
   "cell_type": "markdown",
   "metadata": {},
   "source": [
    "## Analysis of the System Energy"
   ]
  },
  {
   "cell_type": "markdown",
   "metadata": {},
   "source": [
    "### System Energy vs MC Sweeps\n",
    "- How many MC sweeps, $N_{eq}$, are needed to reach a plateau in the system energy, $U$? \n",
    "- Does $N_{eq}$ depend on temperature? "
   ]
  },
  {
   "cell_type": "code",
   "execution_count": null,
   "metadata": {},
   "outputs": [],
   "source": [
    "Neq = "
   ]
  },
  {
   "cell_type": "code",
   "execution_count": null,
   "metadata": {},
   "outputs": [],
   "source": [
    "for T in Ts:\n",
    "    x,y,_,__,___ = np.loadtxt('energy{:d}.dat'.format(T),unpack=True,skiprows=Neq)\n",
    "    plt.plot(x/1e5,y)\n",
    "plt.ylabel('$U$  /  $k_B T$')\n",
    "plt.xlabel('10$^5$ MC Sweeps')"
   ]
  },
  {
   "cell_type": "markdown",
   "metadata": {},
   "source": [
    "### Heat Capacity vs Temperature\n",
    "Set the appropriate $N_{eq}$ and calculate the heat capacity at equilibrium for each temperature.<br>\n",
    "In the canonical ensemble ($N$, $V$, $T$ given and fixed), the heat capacity can be estimated from the fluctuations in system energy, \n",
    "$$\n",
    "C_V = \\frac{\\langle U^2 \\rangle - \\langle U \\rangle^2}{R T^2}.\n",
    "$$\n",
    "- Is there a trend in $C_V$ vs $T$? \n",
    "- At what $T$ can we identify a phase transition? \n",
    "- How does this $T$ compare with the results reported by Cooke and Deserno?"
   ]
  },
  {
   "cell_type": "code",
   "execution_count": null,
   "metadata": {},
   "outputs": [],
   "source": [
    "Neq = "
   ]
  },
  {
   "cell_type": "code",
   "execution_count": null,
   "metadata": {},
   "outputs": [],
   "source": [
    "cv = np.empty(0)\n",
    "for T in Ts:\n",
    "    x,_,__,___,y = np.loadtxt('energy{:d}.dat'.format(T),unpack=True,skiprows=Neq)\n",
    "    cv = np.append(cv, R * ( (y**2).mean() - y.mean()**2 ) / 1000 )\n",
    "plt.plot(Ts,cv,lw=.5, marker='o', ms=10,label='{:d}'.format(T) )\n",
    "plt.ylabel('$C_V$  /  kJ K$^{-1}$ mol$^{-1}$')\n",
    "plt.xlabel('$T$  /  K')"
   ]
  },
  {
   "cell_type": "markdown",
   "metadata": {},
   "source": [
    "<a id='5'></a>"
   ]
  },
  {
   "cell_type": "markdown",
   "metadata": {},
   "source": [
    "## Analysis of the Area per Lipid"
   ]
  },
  {
   "cell_type": "markdown",
   "metadata": {},
   "source": [
    "### $L_x$ vs MC Sweeps\n",
    "- How many MC sweeps, $N_{eq}$, are needed to reach equilibrium? \n",
    "- Does $N_{eq}$ depend on temperature? \n",
    "- Do you estimate the same $N_{eq}$ from $U$ and $L_x$?\n",
    "- Is there a trend in the box length $L_x$ with increasing $T$?"
   ]
  },
  {
   "cell_type": "code",
   "execution_count": null,
   "metadata": {},
   "outputs": [],
   "source": [
    "Neq = "
   ]
  },
  {
   "cell_type": "code",
   "execution_count": null,
   "metadata": {},
   "outputs": [],
   "source": [
    "for T in Ts:\n",
    "    x,y,_ = np.loadtxt('Lx{:d}.dat'.format(T),unpack=True,skiprows=Neq)\n",
    "    plt.plot(x/1e5,y)\n",
    "plt.ylabel('$L_x$  /  Å')\n",
    "plt.xlabel('10$^5$ MC Sweeps')"
   ]
  },
  {
   "cell_type": "markdown",
   "metadata": {},
   "source": [
    "### Area per Lipid vs Temperature\n",
    "Set the appropriate $N_{eq}$ and calculate the average and the standard deviation of the area per lipid at equilibrium for each temperature. Plot $\\langle a \\rangle$ vs $T$."
   ]
  },
  {
   "cell_type": "code",
   "execution_count": null,
   "metadata": {},
   "outputs": [],
   "source": [
    "Neq = "
   ]
  },
  {
   "cell_type": "code",
   "execution_count": null,
   "metadata": {},
   "outputs": [],
   "source": [
    "a = np.empty(0)\n",
    "ae = np.empty(0)\n",
    "for T in Ts:\n",
    "    x,y,_ = np.loadtxt('Lx{:d}.dat'.format(T),unpack=True,skiprows=Neq)\n",
    "    a = np.append(a, (y**2/150*2).mean() )\n",
    "    ae = np.append(ae, (y**2/150*2).std() )\n",
    "plt.errorbar(Ts,a,ae,lw=0, marker='o', ms=10, elinewidth=2, \n",
    "             capsize=2, capthick=1.5,label='{:d}'.format(T) )\n",
    "plt.ylabel(r'$\\langle a \\rangle$  /  Å$^2$')\n",
    "plt.xlabel('$T$  /  K')"
   ]
  },
  {
   "cell_type": "markdown",
   "metadata": {},
   "source": [
    "### Thermal Expansivity\n",
    "- Calculate the slope of the average area per lipid $\\langle a \\rangle$ vs temperature for the fluid phase.<br> Hint: use `np.polyfit(x, y, deg, w=None, cov=True)` with `x` being the range of temperatures where we observe a fluid phase, `y` the corresponding $\\langle a \\rangle$ values and `w` (weights) the inverse of the the corresponding standard deviations of $a$. The `degree` of the fitting polynomial should be set to 1 for a linear regression. With `cov=True`, this method returns the covariance matrix of the polynomial coefficient estimates. The square root of the diagonal of this matrix are the standard deviation estimates for each coefficient.<br>\n",
    "- Use the slope to estimate the thermal expansivity at 298 K according to the definition,\n",
    "$$\n",
    "\\alpha_T = \\frac{1}{\\langle a \\rangle}\\frac{\\partial \\langle a \\rangle}{\\partial T}.\n",
    "$$\n",
    "- Can we reproduce the value reported by Cooke and Deserno?"
   ]
  },
  {
   "cell_type": "code",
   "execution_count": null,
   "metadata": {},
   "outputs": [],
   "source": [
    "a = np.empty(0)\n",
    "ae = np.empty(0)\n",
    "for T in Ts:\n",
    "    x,y,_ = np.loadtxt('Lx{:d}.dat'.format(T),unpack=True,skiprows=Neq)\n",
    "    a = np.append(a, (y**2/150*2).mean() )\n",
    "    ae = np.append(ae, (y**2/150*2).std() )\n",
    "plt.errorbar(Ts,a,ae,lw=0, marker='o', ms=10, elinewidth=2, \n",
    "             capsize=2, capthick=1.5,label='{:d}'.format(T) )\n",
    "\n",
    "### START CODE HERE ### (1 line of code)\n",
    "\n",
    "### END CODE HERE ###\n",
    "x = np.arange(Ts[9:].min(),Ts[9:].max()+1,1)\n",
    "plt.plot(x,p[0]*x+p[1])\n",
    "print('Thermal expansivity:',p[0]/a[12],'+/-',np.sqrt(np.diag(V))[0]/a[12],'1/K at',Ts[12],'K')\n",
    "\n",
    "plt.ylabel(r'$\\langle a \\rangle$  /  Å$^2$')\n",
    "plt.xlabel('$T$  /  K')"
   ]
  },
  {
   "cell_type": "markdown",
   "metadata": {},
   "source": [
    "<a id='6'></a>"
   ]
  },
  {
   "cell_type": "markdown",
   "metadata": {},
   "source": [
    "## Analysis of Model with Larger $w_c$"
   ]
  },
  {
   "cell_type": "markdown",
   "metadata": {},
   "source": [
    "Let's get to the folder of the 3-bead model with $w_c=1.65\\sigma$"
   ]
  },
  {
   "cell_type": "code",
   "execution_count": null,
   "metadata": {},
   "outputs": [],
   "source": [
    "%cd $workdir/3bead\n",
    "%mkdir 1.65\n",
    "%cd 1.65"
   ]
  },
  {
   "cell_type": "markdown",
   "metadata": {},
   "source": [
    "This new model was simulated at the following temperatures"
   ]
  },
  {
   "cell_type": "code",
   "execution_count": null,
   "metadata": {},
   "outputs": [],
   "source": [
    "Ts = np.arange(253,320,5) # range of temperatures to explore\n",
    "Ts"
   ]
  },
  {
   "cell_type": "markdown",
   "metadata": {},
   "source": [
    "Visualize the density profiles and analyse the simulation data to estimate heat capacity and thermal expansivity."
   ]
  }
 ],
 "metadata": {
  "kernelspec": {
   "display_name": "Python 3",
   "language": "python",
   "name": "python3"
  },
  "language_info": {
   "codemirror_mode": {
    "name": "ipython",
    "version": 3
   },
   "file_extension": ".py",
   "mimetype": "text/x-python",
   "name": "python",
   "nbconvert_exporter": "python",
   "pygments_lexer": "ipython3",
   "version": "3.6.7"
  }
 },
 "nbformat": 4,
 "nbformat_minor": 2
}
